{
 "cells": [
  {
   "cell_type": "markdown",
   "metadata": {},
   "source": [
    "**Introduction/Business Problem**\n",
    "___\n",
    "\n",
    "***1.1 Background*** \n",
    "Houston, Texas is the largest city in Texas and is one of the largest Cities in the US and it has a total area of 637.4 square miles. Houston is divided into 88 different Super Neighborhoods that represents different areas of the city. Determining the best location to build/invest in a new restaurant will be critical to how well the restaurant preforms. Before investing in a new restaurant, you need to understand the demographics of the city, in order to determine an ideal location.\n",
    "\n",
    "***1.2 Problem***\n",
    "Data can might contribute to determining the ideal Super Neighborhood to establish a new Pizza Restaurant are the number of competitor’s (other pizza restaurants) per Super Neighborhood, the number of total restaurants per Super Neighborhood, the number of tourist attractions per Super Neighborhood. This analysis of this data will help predict what Super Neighborhood will have the lowest number of competitors and have a larger number of potential customers (ie. Tourists). \n"
   ]
  },
  {
   "cell_type": "markdown",
   "metadata": {},
   "source": [
    "2. Data\n",
    "2.1 Data sources \n",
    "•\tThe geo data for the Super Neighborhoods boundaries will come from https://cohgis-mycity.opendata.arcgis.com/datasets/coh-super-neighborhoods, which is a geojson file of the 88 Super Neighborhoods in Houston.\n",
    "•\tThe restaurant data will be acquired through the Foursquare API for each Super Neighborhood. The restaurant data will be divided into two categories Italian Restaurants (competitors) and all other restaurants (these will still take away potential customers, but will not directly compete with an Italian Restaurant). \n",
    "•\tThe tourist attractions (or things to do) will also be acquired through the Foursquare API for each Super Neighborhood. An increase number of attractions in a given Super Neighborhood will increase traffic of potential customers to include both tourist and residents. The number of attractions in a given neighborhood and also weighting the reviews of these attractions will help understand which neighborhoods will potentially have more people on a daily basis.\n",
    "\n"
   ]
  }
 ],
 "metadata": {
  "kernelspec": {
   "display_name": "Python 3",
   "language": "python",
   "name": "python3"
  },
  "language_info": {
   "codemirror_mode": {
    "name": "ipython",
    "version": 3
   },
   "file_extension": ".py",
   "mimetype": "text/x-python",
   "name": "python",
   "nbconvert_exporter": "python",
   "pygments_lexer": "ipython3",
   "version": "3.7.6"
  }
 },
 "nbformat": 4,
 "nbformat_minor": 4
}
